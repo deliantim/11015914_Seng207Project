{
 "cells": [
  {
   "cell_type": "markdown",
   "id": "92d95b76-d682-467b-84ba-eff210e588bd",
   "metadata": {},
   "source": [
    "Name:Ntim-Gyakari Fidelia \n",
    "\n",
    "ID number:11015914\n",
    "\n",
    "Class:FPEN 200"
   ]
  },
  {
   "cell_type": "code",
   "execution_count": null,
   "id": "d5f7ed5f-62e9-4855-b666-08a1b0d0b4bf",
   "metadata": {},
   "outputs": [],
   "source": [
    "%pip install pandas matplotlib numpy"
   ]
  },
  {
   "cell_type": "code",
   "execution_count": null,
   "id": "605ed4fa-2d1b-4da1-bf6d-9181c581ed5b",
   "metadata": {},
   "outputs": [],
   "source": [
    "import pandas as pd"
   ]
  },
  {
   "cell_type": "code",
   "execution_count": null,
   "id": "65a0ff87-1164-4370-968a-b521983b1b65",
   "metadata": {},
   "outputs": [],
   "source": [
    "import matplotlib.pyplot as plt"
   ]
  },
  {
   "cell_type": "code",
   "execution_count": null,
   "id": "255fbfb5-d617-453b-b4b5-c8b1f540a3f7",
   "metadata": {},
   "outputs": [],
   "source": [
    "import numpy as np"
   ]
  },
  {
   "cell_type": "code",
   "execution_count": null,
   "id": "10936d67-9a80-497b-965d-6faa6b11c058",
   "metadata": {},
   "outputs": [],
   "source": [
    "data_path = \"red_wine.csv\"\n",
    "df = pd.read_csv(data_path)"
   ]
  },
  {
   "cell_type": "code",
   "execution_count": null,
   "id": "6c66789b-e97a-425c-bf9f-d815d7660cf8",
   "metadata": {},
   "outputs": [],
   "source": [
    "df.head(10)"
   ]
  },
  {
   "cell_type": "code",
   "execution_count": null,
   "id": "b9bf5dcb-16f0-4667-b7ef-5ac16299eaee",
   "metadata": {},
   "outputs": [],
   "source": [
    "df.tail(20)"
   ]
  },
  {
   "cell_type": "code",
   "execution_count": null,
   "id": "0202d8f6-c13c-46c0-ba14-88fe6aaec60d",
   "metadata": {},
   "outputs": [],
   "source": [
    "df.info()"
   ]
  },
  {
   "cell_type": "code",
   "execution_count": null,
   "id": "dfdb9005-fd4e-4822-878f-7e83277c639a",
   "metadata": {},
   "outputs": [],
   "source": [
    "df.describe()"
   ]
  },
  {
   "cell_type": "code",
   "execution_count": null,
   "id": "a40677a6-69e5-4a69-8ed4-0089df315c40",
   "metadata": {},
   "outputs": [],
   "source": [
    "plt.figure(figsize=(8, 6))\n",
    "plt.hist(df['fixed acidity'], bins=20, color='skyblue', alpha=0.7)\n",
    "plt.title('Histogram of Fixed Acidity')\n",
    "plt.xlabel('Fixed Acidity')\n",
    "plt.ylabel('Frequency')\n",
    "plt.show()"
   ]
  },
  {
   "cell_type": "code",
   "execution_count": null,
   "id": "084a1794-667a-417d-ac00-4f91e96b91c5",
   "metadata": {},
   "outputs": [],
   "source": [
    "plt.figure(figsize=(8, 6))\n",
    "plt.hist(df['volatile acidity'], bins=20, color='lightcoral', alpha=0.7)\n",
    "plt.title('Histogram of Volatile Acidity')\n",
    "plt.xlabel('Volatile Acidity')\n",
    "plt.ylabel('Frequency')\n",
    "plt.show()"
   ]
  },
  {
   "cell_type": "code",
   "execution_count": null,
   "id": "258e25c7-5151-48be-be46-3f066df0e03b",
   "metadata": {},
   "outputs": [],
   "source": [
    "plt.figure(figsize=(8, 6))\n",
    "plt.hist(df['alcohol'], bins=20, color='lightgreen', alpha=0.7)\n",
    "plt.title('Histogram of Alcohol Content')\n",
    "plt.xlabel('Alcohol Content')\n",
    "plt.ylabel('Frequency')\n",
    "plt.show()"
   ]
  },
  {
   "cell_type": "code",
   "execution_count": null,
   "id": "b142ab88-667b-4006-9551-ca1e8d5bade6",
   "metadata": {},
   "outputs": [],
   "source": [
    "plt.figure(figsize=(10, 6))\n",
    "plt.scatter(df['fixed acidity'], df['volatile acidity'], alpha=0.5, color='red')\n",
    "plt.title('Scatter Plot: Fixed Acidity vs. Volatile Acidity')\n",
    "plt.xlabel('Fixed Acidity')\n",
    "plt.ylabel('Volatile Acidity')\n",
    "plt.show()"
   ]
  },
  {
   "cell_type": "code",
   "execution_count": null,
   "id": "453bec9a-f875-46ef-adc3-e3ceee1c62d8",
   "metadata": {},
   "outputs": [],
   "source": [
    "plt.figure(figsize=(10, 6))\n",
    "plt.scatter(df['fixed acidity'], df['alcohol'], alpha=0.5, color='green')\n",
    "plt.title('Scatter Plot: Fixed Acidity vs. Alcohol Content')\n",
    "plt.xlabel('Fixed Acidity')\n",
    "plt.ylabel('Alcohol Content')\n",
    "plt.show()"
   ]
  },
  {
   "cell_type": "code",
   "execution_count": null,
   "id": "890a0886-17ca-4285-ba96-4c02469039dc",
   "metadata": {},
   "outputs": [],
   "source": [
    "plt.figure(figsize=(10, 6))\n",
    "plt.scatter(df['volatile acidity'], df['alcohol'], alpha=0.5, color='blue')\n",
    "plt.title('Scatter Plot: Volatile Acidity vs. Alcohol Content')\n",
    "plt.xlabel('Volatile Acidity')\n",
    "plt.ylabel('Alcohol Content')\n",
    "plt.show()"
   ]
  },
  {
   "cell_type": "markdown",
   "id": "0bce3caa-de86-44b7-ab89-5bacce8df8a9",
   "metadata": {},
   "source": [
    "### Analysis of Visualizations\n",
    "\n",
    "#### Histograms of Selected Parameters\n",
    "\n",
    "- **Fixed Acidity:**\n",
    "  - The histogram of fixed acidity displays a roughly normal distribution with a peak around the center. It indicates that there is a range of fixed acidity levels in the dataset, with the majority of wines falling within a certain acidity range.\n",
    "\n",
    "- **Volatile Acidity:**\n",
    "  - The histogram of volatile acidity reveals a right-skewed distribution, suggesting that most wines have lower volatile acidity. However, there are some instances of wines with higher volatile acidity, forming a tail on the right side of the distribution.\n",
    "\n",
    "- **Alcohol Content:**\n",
    "  - The histogram of alcohol content shows a distribution with a peak around a certain alcohol content level. There is diversity in alcohol content, indicating variations in the dataset.\n",
    "\n",
    "#### Scatter Plots\n",
    "\n",
    "- **Fixed Acidity vs. Volatile Acidity:**\n",
    "  - The scatter plot shows no clear linear correlation between fixed acidity and volatile acidity. Wines with different fixed acidity levels can have various volatile acidity levels, and vice versa.\n",
    "\n",
    "- **Fixed Acidity vs. Alcohol Content:**\n",
    "  - The scatter plot indicates a scattered pattern, suggesting a weak or no clear linear correlation between fixed acidity and alcohol content. Wines with different fixed acidity levels can have various alcohol content levels.\n",
    "\n",
    "- **Volatile Acidity vs. Alcohol Content:**\n",
    "  - The scatter plot demonstrates the relationship between volatile acidity and alcohol content. While no strong linear correlation is apparent, it shows the spread of wines across different levels of volatile acidity and alcohol content.\n",
    "\n",
    "In summary, the visualizations provide a comprehensive overview of the distribution of selected parameters and relationships between them. The histograms help understand the concentration and range of each parameter, while scatter plots reveal patterns and correlations between pairs of parameters."
   ]
  }
 ],
 "metadata": {
  "kernelspec": {
   "display_name": "Python 3 (ipykernel)",
   "language": "python",
   "name": "python3"
  },
  "language_info": {
   "codemirror_mode": {
    "name": "ipython",
    "version": 3
   },
   "file_extension": ".py",
   "mimetype": "text/x-python",
   "name": "python",
   "nbconvert_exporter": "python",
   "pygments_lexer": "ipython3",
   "version": "3.12.0"
  }
 },
 "nbformat": 4,
 "nbformat_minor": 5
}
